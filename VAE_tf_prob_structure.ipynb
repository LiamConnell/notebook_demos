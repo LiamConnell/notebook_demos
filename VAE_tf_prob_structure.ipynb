{
 "cells": [
  {
   "cell_type": "code",
   "execution_count": 1,
   "metadata": {},
   "outputs": [],
   "source": [
    "import tensorflow as tf\n",
    "from tensorflow.examples.tutorials.mnist import input_data\n",
    "import numpy as np\n",
    "import matplotlib.pyplot as plt\n",
    "import matplotlib.gridspec as gridspec\n",
    "import os\n",
    "\n",
    "from tensorflow_probability import distributions as tfd\n",
    "\n",
    "from datetime import datetime\n",
    "\n",
    "from utils import *"
   ]
  },
  {
   "cell_type": "code",
   "execution_count": 2,
   "metadata": {},
   "outputs": [],
   "source": [
    "mnist = tf.keras.datasets.mnist\n"
   ]
  },
  {
   "cell_type": "code",
   "execution_count": 3,
   "metadata": {},
   "outputs": [],
   "source": [
    "(x_train, y_train),(x_test, y_test) = mnist.load_data()"
   ]
  },
  {
   "cell_type": "code",
   "execution_count": 21,
   "metadata": {},
   "outputs": [],
   "source": [
    "tf.reset_default_graph()\n"
   ]
  },
  {
   "cell_type": "code",
   "execution_count": 22,
   "metadata": {},
   "outputs": [],
   "source": [
    "def compute_kernel(x, y):\n",
    "    x_size = tf.shape(x)[0]\n",
    "    y_size = tf.shape(y)[0]\n",
    "    dim = tf.shape(x)[1]\n",
    "    tiled_x = tf.tile(tf.reshape(x, tf.stack([x_size, 1, dim])), tf.stack([1, y_size, 1]))\n",
    "    tiled_y = tf.tile(tf.reshape(y, tf.stack([1, y_size, dim])), tf.stack([x_size, 1, 1]))\n",
    "    return tf.exp(-tf.reduce_mean(tf.square(tiled_x - tiled_y), axis=2) / tf.cast(dim, tf.float32))\n",
    "\n",
    "def compute_mmd(x, y, sigma_sqr=1.0):\n",
    "    x_kernel = compute_kernel(x, x)\n",
    "    y_kernel = compute_kernel(y, y)\n",
    "    xy_kernel = compute_kernel(x, y)\n",
    "    return tf.reduce_mean(x_kernel) + tf.reduce_mean(y_kernel) - 2 * tf.reduce_mean(xy_kernel)"
   ]
  },
  {
   "cell_type": "code",
   "execution_count": 23,
   "metadata": {},
   "outputs": [],
   "source": [
    "n_z = 2\n",
    "n_class = 10\n",
    "batchsize = 64\n",
    "\n",
    "X = tf.placeholder(tf.float32, shape=[None, 784])\n",
    "X_reshape = tf.reshape(X, [-1, 28,28,1])\n",
    "label = tf.placeholder(tf.int32, shape=[None])\n",
    "label_oh = tf.one_hot(label, 10)\n",
    "\n",
    "# ENCODER\n",
    "def encoder(x):\n",
    "    with tf.variable_scope(\"encoder\"):\n",
    "        h1 = lrelu(conv2d(x, 1, 16, \"d_h1\")) # 28x28x1 -> 14x14x16\n",
    "        h2 = lrelu(conv2d(h1, 16, 32, \"d_h2\")) # 14x14x16 -> 7x7x32\n",
    "        h2_flat = tf.reshape(h2,[-1, 7*7*32])\n",
    "        \n",
    "        class_ = tf.nn.softmax(dense(h2_flat, 7*7*32, n_class, \"w_class\"))\n",
    "        class_ = tfd.Categorical(probs=class_)\n",
    "        \n",
    "        w_mean = dense(h2_flat, 7*7*32, n_z, \"w_mean\")\n",
    "        w_stddev = tf.nn.softplus(dense(h2_flat, 7*7*32, n_z, \"w_stddev\"))\n",
    "        posterior = tfd.MultivariateNormalDiag(w_mean, w_stddev)\n",
    "    return posterior, class_\n",
    "\n",
    "\n",
    "# DECODER\n",
    "# def decoder(z, class_):\n",
    "#     with tf.variable_scope(\"decoder\", reuse=tf.AUTO_REUSE):\n",
    "#         z = tf.concat([z, class_], axis=1)\n",
    "#         z = tf.layers.dense(z, n_z, activation = tf.nn.relu)\n",
    "#         z_develop = tf.layers.dense(z, 7*7*32, activation = tf.nn.relu)\n",
    "#         z_matrix = tf.reshape(z_develop, [-1, 7, 7, 32])\n",
    "#         h1 = tf.nn.relu(conv_transpose(z_matrix, [batchsize, 14, 14, 16], \"g_h1\"))\n",
    "#         flat_dim = 16\n",
    "#         h1_flat = tf.reshape(h1, [batchsize,14*14,flat_dim])\n",
    "#         class_ = tf.stack([class_ for i in range(14*14)], axis=-2)\n",
    "#         h1_flat = tf.concat([h1_flat, class_], axis=-1)\n",
    "#         h1_flat = tf.layers.dense(h1_flat, flat_dim, activation = tf.nn.relu )\n",
    "#         h1_flat = tf.layers.dense(h1_flat, flat_dim, activation = tf.nn.relu )\n",
    "#         h1 = tf.reshape(h1_flat, [batchsize, 14, 14, 16])\n",
    "#         h2 = conv_transpose(h1, [batchsize, 28, 28, 1], \"g_h2\")\n",
    "#         h2 = tf.nn.sigmoid(h2)\n",
    "#         h2 = tf.reshape(h2, [-1, 784])\n",
    "#         dec = tfd.Bernoulli(probs=h2 + 1e-8)\n",
    "#         dec = tfd.Independent(\n",
    "#             distribution=dec,\n",
    "#             reinterpreted_batch_ndims=1,\n",
    "#             )\n",
    "#     return dec, h2\n",
    "\n",
    "\n",
    "\n",
    "# DECODER\n",
    "def decoder(z, class_):\n",
    "    with tf.variable_scope(\"decoder\", reuse=tf.AUTO_REUSE):\n",
    "        z = tf.concat([z, class_], axis=1)\n",
    "#         z = tf.layers.dense(z, n_z, activation = tf.nn.relu)\n",
    "        z_develop = tf.layers.dense(z, 7*7*32, activation = tf.nn.relu)\n",
    "        z_matrix = tf.nn.relu(tf.reshape(z_develop, [-1, 7, 7, 32]))\n",
    "        h1 = tf.nn.relu(conv_transpose(z_matrix, [batchsize, 14, 14, 16], \"g_h1\"))\n",
    "        h2 = conv_transpose(h1, [batchsize, 28, 28, 1], \"g_h2\")\n",
    "        h2 = tf.nn.sigmoid(h2)\n",
    "        h2 = tf.reshape(h2, [-1, 784])\n",
    "        dec = tfd.Bernoulli(probs=h2 + 1e-8)\n",
    "        dec = tfd.Independent(\n",
    "            distribution=dec,\n",
    "            reinterpreted_batch_ndims=1,\n",
    "            )\n",
    "    return dec, h2\n",
    "\n",
    "prior = tfd.MultivariateNormalDiag(tf.zeros(n_z), tf.ones(n_z))\n",
    "\n",
    "# ENCODER\n",
    "posterior, class_ = encoder(X_reshape)\n",
    "class_sampled = tf.one_hot(class_.sample(), 10)\n",
    "code = posterior.sample()\n",
    "struct_loss = tf.reduce_sum((-1)*label_oh*tf.log(class_.probs+1e-8), axis=1)\n",
    "\n",
    "# DECODER\n",
    "dec, generated_flat = decoder(code, class_sampled)\n",
    "sampled_flat = dec.sample()\n",
    "generated_images = tf.reshape(generated_flat, [-1, 28,28,1])\n",
    "sampled_images = tf.reshape(sampled_flat, [-1, 28,28,1])\n",
    "\n",
    "# LOSS\n",
    "# latent_likelihood = prior.log_prob(code)\n",
    "lambda_ = 500\n",
    "alpha_ = 1\n",
    "divergence = compute_mmd(code, prior.sample(200)) * (lambda_+alpha_-1)\n",
    "div2 = tfd.kl_divergence(posterior, prior) * (1-alpha_)\n",
    "likelihood = dec.log_prob(X)\n",
    "elbo = likelihood - divergence - div2\n",
    "cost = tf.reduce_mean(-elbo + struct_loss)\n",
    "\n",
    "# likelihood = dec.log_prob(X) #dec.log_prob(X)/784\n",
    "# divergence = tfd.kl_divergence(posterior, prior) * n_z\n",
    "# elbo = likelihood - divergence #tf.reduce_mean(likelihood - divergence)\n",
    "# cost = tf.reduce_mean(-elbo + struct_loss)\n",
    "\n",
    "# TRAIN\n",
    "optimizer = tf.train.AdamOptimizer(0.001).minimize(cost)"
   ]
  },
  {
   "cell_type": "code",
   "execution_count": 24,
   "metadata": {},
   "outputs": [],
   "source": [
    "# MANIPULATE\n",
    "class_choice = tf.placeholder(tf.int32, shape=[None])\n",
    "class_choice_oh = tf.one_hot(class_choice, 10)\n",
    "_, generated_flat_choice = decoder(code, class_choice_oh)\n",
    "generated_images_choice = tf.reshape(generated_flat_choice, [-1, 28,28,1])"
   ]
  },
  {
   "cell_type": "code",
   "execution_count": 25,
   "metadata": {},
   "outputs": [],
   "source": [
    "sess = tf.Session()\n",
    "sess.run(tf.global_variables_initializer())"
   ]
  },
  {
   "cell_type": "code",
   "execution_count": 26,
   "metadata": {},
   "outputs": [
    {
     "name": "stdout",
     "output_type": "stream",
     "text": [
      "0\n",
      "1\n",
      "2\n",
      "3\n",
      "4\n",
      "5\n",
      "6\n",
      "7\n",
      "8\n",
      "9\n"
     ]
    }
   ],
   "source": [
    "# ITERATOR\n",
    "all_nums = tf.data.Dataset.from_tensor_slices((x_train, y_train)).map(lambda x,y: (tf.reshape(x,[784])/255,y))\n",
    "it = all_nums.batch(batchsize).repeat().make_initializable_iterator()\n",
    "nb = it.get_next()\n",
    "sess.run(it.initializer)\n",
    "\n",
    "single_num_ds = {}\n",
    "sn_iterators = {}\n",
    "next_batch = {}\n",
    "for i in range(10):\n",
    "    print(i)\n",
    "    single_num_ds[i] = all_nums.filter(lambda x,y: tf.equal(y,i)).batch(batchsize).repeat()\n",
    "    sn_iterators[i] = single_num_ds[i].make_initializable_iterator()\n",
    "    next_batch[i] = sn_iterators[i].get_next()\n",
    "    sess.run(sn_iterators[i].initializer)\n",
    "\n",
    "next_batch[10] = nb"
   ]
  },
  {
   "cell_type": "code",
   "execution_count": 27,
   "metadata": {
    "scrolled": true
   },
   "outputs": [
    {
     "name": "stdout",
     "output_type": "stream",
     "text": [
      "Iter: 0\n",
      "cost: 543.5\n",
      "likelihood: -535.3\n",
      "divergence: 5.94\n",
      "struct loss: 2.29\n",
      "2019-05-19 19:33:53.212283\n",
      "\n",
      "Iter: 10\n",
      "cost: 224.5\n",
      "likelihood: -216.4\n",
      "divergence: 5.922\n",
      "struct loss: 2.208\n",
      "2019-05-19 19:34:01.674383\n",
      "\n",
      "Iter: 20\n",
      "cost: 223.0\n",
      "likelihood: -212.4\n",
      "divergence: 8.457\n",
      "struct loss: 2.163\n",
      "2019-05-19 19:34:10.413625\n",
      "\n",
      "Iter: 30\n",
      "cost: 215.8\n",
      "likelihood: -211.0\n",
      "divergence: 2.827\n",
      "struct loss: 2.004\n",
      "2019-05-19 19:34:20.036966\n",
      "\n",
      "Iter: 40\n",
      "cost: 206.9\n",
      "likelihood: -204.0\n",
      "divergence: 1.073\n",
      "struct loss: 1.768\n",
      "2019-05-19 19:34:28.691142\n",
      "\n",
      "Iter: 50\n",
      "cost: 194.7\n",
      "likelihood: -191.4\n",
      "divergence: 1.681\n",
      "struct loss: 1.582\n",
      "2019-05-19 19:34:37.290510\n",
      "\n",
      "Iter: 60\n",
      "cost: 198.8\n",
      "likelihood: -193.6\n",
      "divergence: 4.055\n",
      "struct loss: 1.155\n",
      "2019-05-19 19:34:45.469321\n",
      "\n",
      "Iter: 70\n",
      "cost: 215.6\n",
      "likelihood: -207.8\n",
      "divergence: 6.768\n",
      "struct loss: 0.9561\n",
      "2019-05-19 19:34:53.436896\n",
      "\n",
      "Iter: 80\n",
      "cost: 207.3\n",
      "likelihood: -200.9\n",
      "divergence: 5.244\n",
      "struct loss: 1.182\n",
      "2019-05-19 19:35:01.752847\n",
      "\n",
      "Iter: 90\n",
      "cost: 191.6\n",
      "likelihood: -184.5\n",
      "divergence: 6.16\n",
      "struct loss: 0.881\n",
      "2019-05-19 19:35:09.579172\n",
      "\n",
      "Iter: 100\n",
      "cost: 202.5\n",
      "likelihood: -185.2\n",
      "divergence: 16.8\n",
      "struct loss: 0.566\n",
      "2019-05-19 19:35:16.862942\n",
      "\n",
      "Iter: 110\n",
      "cost: 194.6\n",
      "likelihood: -182.7\n",
      "divergence: 11.15\n",
      "struct loss: 0.6754\n",
      "2019-05-19 19:35:24.732014\n",
      "\n",
      "Iter: 120\n",
      "cost: 183.5\n",
      "likelihood: -179.0\n",
      "divergence: 3.728\n",
      "struct loss: 0.7107\n",
      "2019-05-19 19:35:32.389418\n",
      "\n",
      "Iter: 130\n",
      "cost: 179.0\n",
      "likelihood: -172.0\n",
      "divergence: 6.483\n",
      "struct loss: 0.5276\n",
      "2019-05-19 19:35:39.840664\n",
      "\n",
      "Iter: 140\n",
      "cost: 160.2\n",
      "likelihood: -157.2\n",
      "divergence: 2.69\n",
      "struct loss: 0.3698\n",
      "2019-05-19 19:35:47.461346\n",
      "\n",
      "Iter: 150\n",
      "cost: 202.2\n",
      "likelihood: -164.3\n",
      "divergence: 37.49\n",
      "struct loss: 0.4138\n",
      "2019-05-19 19:35:54.873057\n",
      "\n",
      "Iter: 160\n",
      "cost: 194.3\n",
      "likelihood: -187.4\n",
      "divergence: 6.385\n",
      "struct loss: 0.5907\n",
      "2019-05-19 19:36:02.384996\n",
      "\n",
      "Iter: 170\n",
      "cost: 158.7\n",
      "likelihood: -152.0\n",
      "divergence: 6.292\n",
      "struct loss: 0.3418\n",
      "2019-05-19 19:36:11.260332\n",
      "\n",
      "Iter: 180\n",
      "cost: 156.6\n",
      "likelihood: -148.8\n",
      "divergence: 7.305\n",
      "struct loss: 0.4797\n",
      "2019-05-19 19:36:21.329423\n",
      "\n",
      "Iter: 190\n",
      "cost: 174.5\n",
      "likelihood: -167.2\n",
      "divergence: 7.024\n",
      "struct loss: 0.3648\n",
      "2019-05-19 19:36:29.362961\n",
      "\n",
      "Iter: 200\n",
      "cost: 157.9\n",
      "likelihood: -151.5\n",
      "divergence: 6.022\n",
      "struct loss: 0.348\n",
      "2019-05-19 19:36:37.005138\n",
      "\n",
      "Iter: 210\n",
      "cost: 167.3\n",
      "likelihood: -156.5\n",
      "divergence: 10.51\n",
      "struct loss: 0.2645\n",
      "2019-05-19 19:36:45.100418\n",
      "\n",
      "Iter: 220\n",
      "cost: 190.3\n",
      "likelihood: -173.3\n",
      "divergence: 16.63\n",
      "struct loss: 0.383\n",
      "2019-05-19 19:36:53.570455\n",
      "\n",
      "Iter: 230\n",
      "cost: 214.8\n",
      "likelihood: -165.6\n",
      "divergence: 48.56\n",
      "struct loss: 0.5969\n",
      "2019-05-19 19:37:01.468486\n",
      "\n",
      "Iter: 240\n",
      "cost: 160.3\n",
      "likelihood: -148.3\n",
      "divergence: 11.68\n",
      "struct loss: 0.2894\n",
      "2019-05-19 19:37:09.319907\n",
      "\n",
      "Iter: 250\n",
      "cost: 156.9\n",
      "likelihood: -151.4\n",
      "divergence: 4.967\n",
      "struct loss: 0.4668\n",
      "2019-05-19 19:37:16.868532\n",
      "\n",
      "Iter: 260\n",
      "cost: 157.3\n",
      "likelihood: -145.7\n",
      "divergence: 11.28\n",
      "struct loss: 0.3301\n",
      "2019-05-19 19:37:24.549195\n",
      "\n",
      "Iter: 270\n",
      "cost: 172.3\n",
      "likelihood: -164.2\n",
      "divergence: 7.942\n",
      "struct loss: 0.2062\n",
      "2019-05-19 19:37:32.108988\n",
      "\n",
      "Iter: 280\n",
      "cost: 163.2\n",
      "likelihood: -147.8\n",
      "divergence: 15.13\n",
      "struct loss: 0.2395\n",
      "2019-05-19 19:37:40.238297\n",
      "\n",
      "Iter: 290\n",
      "cost: 194.4\n",
      "likelihood: -163.8\n",
      "divergence: 30.23\n",
      "struct loss: 0.3374\n",
      "2019-05-19 19:37:48.829072\n",
      "\n",
      "Iter: 300\n",
      "cost: 173.8\n",
      "likelihood: -169.3\n",
      "divergence: 4.118\n",
      "struct loss: 0.3669\n",
      "2019-05-19 19:37:57.422528\n",
      "\n",
      "Iter: 310\n",
      "cost: 173.9\n",
      "likelihood: -153.1\n",
      "divergence: 20.67\n",
      "struct loss: 0.2184\n",
      "2019-05-19 19:38:06.909924\n",
      "\n",
      "Iter: 320\n",
      "cost: 167.9\n",
      "likelihood: -149.8\n",
      "divergence: 17.96\n",
      "struct loss: 0.2104\n",
      "2019-05-19 19:38:15.443121\n",
      "\n",
      "Iter: 330\n",
      "cost: 156.5\n",
      "likelihood: -149.2\n",
      "divergence: 7.056\n",
      "struct loss: 0.2826\n",
      "2019-05-19 19:38:23.153670\n",
      "\n",
      "Iter: 340\n",
      "cost: 170.1\n",
      "likelihood: -161.3\n",
      "divergence: 8.618\n",
      "struct loss: 0.1117\n",
      "2019-05-19 19:38:31.691818\n",
      "\n",
      "Iter: 350\n",
      "cost: 159.4\n",
      "likelihood: -144.0\n",
      "divergence: 15.18\n",
      "struct loss: 0.2586\n",
      "2019-05-19 19:38:40.008299\n",
      "\n",
      "Iter: 360\n",
      "cost: 166.5\n",
      "likelihood: -163.7\n",
      "divergence: 2.526\n",
      "struct loss: 0.2925\n",
      "2019-05-19 19:38:49.379059\n",
      "\n",
      "Iter: 370\n",
      "cost: 164.7\n",
      "likelihood: -150.6\n",
      "divergence: 13.69\n",
      "struct loss: 0.4195\n",
      "2019-05-19 19:38:57.332240\n",
      "\n",
      "Iter: 380\n",
      "cost: 157.9\n",
      "likelihood: -132.1\n",
      "divergence: 25.66\n",
      "struct loss: 0.132\n",
      "2019-05-19 19:39:05.021631\n",
      "\n",
      "Iter: 390\n",
      "cost: 154.5\n",
      "likelihood: -146.4\n",
      "divergence: 7.99\n",
      "struct loss: 0.1803\n",
      "2019-05-19 19:39:12.416427\n",
      "\n",
      "Iter: 400\n",
      "cost: 160.6\n",
      "likelihood: -150.9\n",
      "divergence: 9.577\n",
      "struct loss: 0.1625\n",
      "2019-05-19 19:39:20.357961\n",
      "\n",
      "Iter: 410\n",
      "cost: 147.9\n",
      "likelihood: -139.5\n",
      "divergence: 8.184\n",
      "struct loss: 0.2153\n",
      "2019-05-19 19:39:28.239911\n",
      "\n",
      "Iter: 420\n",
      "cost: 149.2\n",
      "likelihood: -145.4\n",
      "divergence: 3.423\n",
      "struct loss: 0.3566\n",
      "2019-05-19 19:39:35.937340\n",
      "\n",
      "Iter: 430\n",
      "cost: 158.2\n",
      "likelihood: -139.4\n",
      "divergence: 18.66\n",
      "struct loss: 0.1783\n",
      "2019-05-19 19:39:44.407235\n",
      "\n",
      "Iter: 440\n",
      "cost: 193.5\n",
      "likelihood: -160.7\n",
      "divergence: 32.54\n",
      "struct loss: 0.2698\n",
      "2019-05-19 19:39:52.638613\n",
      "\n",
      "Iter: 450\n",
      "cost: 154.8\n",
      "likelihood: -144.7\n",
      "divergence: 9.92\n",
      "struct loss: 0.1384\n",
      "2019-05-19 19:40:00.555086\n",
      "\n",
      "Iter: 460\n",
      "cost: 154.0\n",
      "likelihood: -148.4\n",
      "divergence: 5.398\n",
      "struct loss: 0.2045\n",
      "2019-05-19 19:40:08.944954\n",
      "\n",
      "Iter: 470\n",
      "cost: 184.1\n",
      "likelihood: -144.2\n",
      "divergence: 39.71\n",
      "struct loss: 0.2043\n",
      "2019-05-19 19:40:17.475294\n",
      "\n",
      "Iter: 480\n",
      "cost: 168.2\n",
      "likelihood: -146.5\n",
      "divergence: 21.46\n",
      "struct loss: 0.2775\n",
      "2019-05-19 19:40:25.213767\n",
      "\n",
      "Iter: 490\n",
      "cost: 146.6\n",
      "likelihood: -141.8\n",
      "divergence: 4.585\n",
      "struct loss: 0.2786\n",
      "2019-05-19 19:40:33.107896\n",
      "\n"
     ]
    }
   ],
   "source": [
    "mb_size = batchsize\n",
    "for it in range(500):\n",
    "    for i in range(11):\n",
    "        X_mb, Y_mb = sess.run(next_batch[i])\n",
    "#         X_mb, Y_mb = sess.run(nb)\n",
    "        if len(X_mb)!=batchsize:\n",
    "            continue\n",
    "        _, c, l, d, s = sess.run((optimizer, cost, likelihood, divergence, struct_loss), \n",
    "                                         feed_dict={X: X_mb, label: Y_mb})\n",
    "    \n",
    "    now = datetime.now()\n",
    "    if it % 10 == 0:\n",
    "        print('Iter: {}'.format(it))\n",
    "        print('cost: {:.4}'. format(np.mean(c)))\n",
    "        print('likelihood: {:.4}'. format(np.mean(l)))\n",
    "        print('divergence: {:.4}'. format(np.mean(d)))\n",
    "        print('struct loss: {:.4}'. format(np.mean(s)))\n",
    "        print(str(datetime.now()))\n",
    "        print()\n",
    "        \n"
   ]
  },
  {
   "cell_type": "code",
   "execution_count": 29,
   "metadata": {},
   "outputs": [],
   "source": [
    "b = tfd.Bernoulli(probs=[0.0,0.1,0.5,0.9,1.0])"
   ]
  },
  {
   "cell_type": "code",
   "execution_count": 33,
   "metadata": {},
   "outputs": [
    {
     "data": {
      "text/plain": [
       "array([        nan, -0.10536051, -0.6931472 , -2.302585  ,         nan],\n",
       "      dtype=float32)"
      ]
     },
     "execution_count": 33,
     "metadata": {},
     "output_type": "execute_result"
    }
   ],
   "source": [
    "sess.run(b.log_prob(tf.zeros_like(b.probs)))"
   ]
  },
  {
   "cell_type": "code",
   "execution_count": null,
   "metadata": {},
   "outputs": [],
   "source": []
  },
  {
   "cell_type": "code",
   "execution_count": null,
   "metadata": {},
   "outputs": [],
   "source": []
  },
  {
   "cell_type": "code",
   "execution_count": null,
   "metadata": {},
   "outputs": [],
   "source": []
  },
  {
   "cell_type": "code",
   "execution_count": null,
   "metadata": {},
   "outputs": [],
   "source": []
  },
  {
   "cell_type": "code",
   "execution_count": 19,
   "metadata": {},
   "outputs": [
    {
     "data": {
      "image/png": "[encoded data removed]",
      "text/plain": [
       "<Figure size 288x288 with 16 Axes>"
      ]
     },
     "execution_count": 19,
     "metadata": {},
     "output_type": "execute_result"
    },
    {
     "data": {
      "image/png": "[encoded data removed]",
      "text/plain": [
       "<Figure size 288x288 with 16 Axes>"
      ]
     },
     "metadata": {
      "needs_background": "light"
     },
     "output_type": "display_data"
    },
    {
     "data": {
      "image/png": "[encoded data removed]",
      "text/plain": [
       "<Figure size 288x288 with 16 Axes>"
      ]
     },
     "metadata": {
      "needs_background": "light"
     },
     "output_type": "display_data"
    },
    {
     "data": {
      "image/png": "[encoded data removed]",
      "text/plain": [
       "<Figure size 288x288 with 16 Axes>"
      ]
     },
     "metadata": {
      "needs_background": "light"
     },
     "output_type": "display_data"
    }
   ],
   "source": [
    "X_mb, _ = sess.run(next_batch[6])\n",
    "g, s, r, z = sess.run([generated_images, sampled_images, X_reshape, code], feed_dict={X: X_mb})\n",
    "plot(g)\n",
    "plot(r)\n",
    "plot(s)"
   ]
  },
  {
   "cell_type": "code",
   "execution_count": 12,
   "metadata": {
    "scrolled": true
   },
   "outputs": [
    {
     "data": {
      "text/plain": [
       "array([[0., 0., 0., 0., 0., 0., 0., 0., 1., 0.],\n",
       "       [0., 1., 0., 0., 0., 0., 0., 0., 0., 0.],\n",
       "       [0., 0., 0., 0., 0., 0., 1., 0., 0., 0.],\n",
       "       [0., 0., 0., 0., 0., 0., 1., 0., 0., 0.],\n",
       "       [0., 0., 0., 0., 0., 0., 1., 0., 0., 0.],\n",
       "       [0., 0., 0., 0., 0., 0., 1., 0., 0., 0.],\n",
       "       [1., 0., 0., 0., 0., 0., 0., 0., 0., 0.],\n",
       "       [0., 0., 0., 0., 0., 0., 1., 0., 0., 0.],\n",
       "       [0., 0., 0., 0., 0., 0., 1., 0., 0., 0.],\n",
       "       [0., 1., 0., 0., 0., 0., 0., 0., 0., 0.],\n",
       "       [0., 0., 0., 0., 0., 0., 1., 0., 0., 0.],\n",
       "       [0., 0., 0., 0., 0., 0., 1., 0., 0., 0.],\n",
       "       [1., 0., 0., 0., 0., 0., 0., 0., 0., 0.],\n",
       "       [0., 0., 0., 0., 0., 0., 1., 0., 0., 0.],\n",
       "       [0., 0., 0., 0., 0., 0., 1., 0., 0., 0.],\n",
       "       [0., 0., 1., 0., 0., 0., 0., 0., 0., 0.],\n",
       "       [0., 0., 0., 0., 0., 0., 1., 0., 0., 0.],\n",
       "       [0., 0., 0., 0., 0., 0., 1., 0., 0., 0.],\n",
       "       [0., 0., 0., 0., 0., 0., 0., 0., 1., 0.],\n",
       "       [0., 0., 0., 0., 1., 0., 0., 0., 0., 0.],\n",
       "       [0., 0., 0., 0., 0., 0., 1., 0., 0., 0.],\n",
       "       [0., 0., 0., 0., 0., 1., 0., 0., 0., 0.],\n",
       "       [0., 0., 0., 0., 0., 0., 1., 0., 0., 0.],\n",
       "       [0., 0., 0., 0., 0., 0., 1., 0., 0., 0.],\n",
       "       [0., 0., 0., 0., 0., 0., 1., 0., 0., 0.],\n",
       "       [0., 0., 0., 0., 0., 0., 0., 0., 1., 0.],\n",
       "       [0., 0., 0., 0., 0., 0., 1., 0., 0., 0.],\n",
       "       [0., 0., 0., 0., 0., 0., 0., 0., 1., 0.],\n",
       "       [0., 0., 0., 0., 0., 0., 1., 0., 0., 0.],\n",
       "       [0., 1., 0., 0., 0., 0., 0., 0., 0., 0.],\n",
       "       [0., 0., 0., 0., 0., 0., 1., 0., 0., 0.],\n",
       "       [0., 0., 0., 0., 0., 0., 1., 0., 0., 0.],\n",
       "       [0., 0., 0., 0., 0., 0., 1., 0., 0., 0.],\n",
       "       [0., 0., 0., 0., 1., 0., 0., 0., 0., 0.],\n",
       "       [0., 0., 0., 0., 0., 0., 1., 0., 0., 0.],\n",
       "       [0., 0., 0., 0., 1., 0., 0., 0., 0., 0.],\n",
       "       [0., 0., 0., 0., 1., 0., 0., 0., 0., 0.],\n",
       "       [0., 0., 0., 0., 0., 0., 1., 0., 0., 0.],\n",
       "       [0., 0., 0., 0., 0., 0., 1., 0., 0., 0.],\n",
       "       [0., 0., 0., 0., 0., 0., 0., 0., 1., 0.],\n",
       "       [0., 0., 0., 0., 0., 0., 0., 1., 0., 0.],\n",
       "       [0., 1., 0., 0., 0., 0., 0., 0., 0., 0.],\n",
       "       [0., 0., 0., 0., 0., 0., 1., 0., 0., 0.],\n",
       "       [0., 0., 0., 0., 0., 0., 1., 0., 0., 0.],\n",
       "       [1., 0., 0., 0., 0., 0., 0., 0., 0., 0.],\n",
       "       [0., 0., 0., 0., 0., 0., 1., 0., 0., 0.],\n",
       "       [0., 0., 0., 0., 0., 0., 0., 0., 0., 1.],\n",
       "       [0., 0., 0., 0., 0., 0., 1., 0., 0., 0.],\n",
       "       [0., 0., 0., 0., 0., 0., 0., 0., 1., 0.],\n",
       "       [0., 0., 0., 0., 0., 0., 1., 0., 0., 0.],\n",
       "       [0., 0., 0., 0., 0., 0., 0., 0., 0., 1.],\n",
       "       [1., 0., 0., 0., 0., 0., 0., 0., 0., 0.],\n",
       "       [0., 0., 0., 0., 1., 0., 0., 0., 0., 0.],\n",
       "       [0., 0., 0., 0., 0., 0., 1., 0., 0., 0.],\n",
       "       [0., 0., 0., 0., 0., 0., 1., 0., 0., 0.],\n",
       "       [0., 0., 0., 0., 0., 0., 1., 0., 0., 0.],\n",
       "       [0., 0., 0., 0., 0., 0., 1., 0., 0., 0.],\n",
       "       [1., 0., 0., 0., 0., 0., 0., 0., 0., 0.],\n",
       "       [0., 1., 0., 0., 0., 0., 0., 0., 0., 0.],\n",
       "       [0., 0., 0., 0., 0., 0., 1., 0., 0., 0.],\n",
       "       [0., 0., 0., 0., 0., 0., 1., 0., 0., 0.],\n",
       "       [0., 0., 0., 0., 0., 0., 1., 0., 0., 0.],\n",
       "       [0., 0., 0., 0., 0., 0., 1., 0., 0., 0.],\n",
       "       [1., 0., 0., 0., 0., 0., 0., 0., 0., 0.]], dtype=float32)"
      ]
     },
     "execution_count": 12,
     "metadata": {},
     "output_type": "execute_result"
    }
   ],
   "source": [
    "sess.run(class_sampled, feed_dict = {X:X_mb})"
   ]
  },
  {
   "cell_type": "code",
   "execution_count": 20,
   "metadata": {
    "scrolled": true
   },
   "outputs": [
    {
     "data": {
      "image/png": "[encoded data removed]",
      "text/plain": [
       "<Figure size 288x288 with 16 Axes>"
      ]
     },
     "execution_count": 20,
     "metadata": {},
     "output_type": "execute_result"
    },
    {
     "data": {
      "image/png": "[encoded data removed]",
      "text/plain": [
       "<Figure size 288x288 with 16 Axes>"
      ]
     },
     "metadata": {
      "needs_background": "light"
     },
     "output_type": "display_data"
    },
    {
     "data": {
      "image/png": "[encoded data removed]",
      "text/plain": [
       "<Figure size 288x288 with 16 Axes>"
      ]
     },
     "metadata": {
      "needs_background": "light"
     },
     "output_type": "display_data"
    }
   ],
   "source": [
    "plot(sess.run(generated_images_choice, feed_dict = {X:X_mb, class_choice:[4 for i in range(batchsize)]}))\n",
    "plot(X_mb)"
   ]
  },
  {
   "cell_type": "code",
   "execution_count": 14,
   "metadata": {},
   "outputs": [
    {
     "data": {
      "text/plain": [
       "<matplotlib.collections.PathCollection at 0x1262569e8>"
      ]
     },
     "execution_count": 14,
     "metadata": {},
     "output_type": "execute_result"
    },
    {
     "data": {
      "image/png": "[encoded data removed]",
      "text/plain": [
       "<Figure size 432x288 with 1 Axes>"
      ]
     },
     "metadata": {
      "needs_background": "light"
     },
     "output_type": "display_data"
    }
   ],
   "source": [
    "X_mb, _ = sess.run(next_batch[0])\n",
    "\n",
    "code_ = sess.run(code, feed_dict = {X:X_mb})\n",
    "plt.scatter(code_[:,0], code_[:,1])"
   ]
  },
  {
   "cell_type": "code",
   "execution_count": 15,
   "metadata": {},
   "outputs": [
    {
     "data": {
      "text/plain": [
       "array([[ 1.4323791 ,  0.5493384 ],\n",
       "       [ 0.4177424 ,  1.23837   ],\n",
       "       [-1.0895845 ,  0.5885465 ],\n",
       "       [-0.2473825 , -1.5768383 ],\n",
       "       [-2.6707997 ,  0.60925376],\n",
       "       [ 0.4960201 , -2.0499144 ],\n",
       "       [ 0.23898607, -0.5320336 ],\n",
       "       [ 0.3878539 ,  0.199806  ],\n",
       "       [-1.1693001 ,  0.47773808],\n",
       "       [-0.12556611, -0.42275462],\n",
       "       [ 0.07684992, -1.5957688 ],\n",
       "       [ 0.03418589,  0.50058514],\n",
       "       [-1.259268  ,  0.66579574],\n",
       "       [ 1.1540529 , -1.1129338 ],\n",
       "       [-0.7517873 ,  0.5641264 ],\n",
       "       [-0.0465472 , -0.972018  ],\n",
       "       [-1.3598051 , -0.7936935 ],\n",
       "       [-0.43605807,  0.8018391 ],\n",
       "       [-0.15045361, -2.2217283 ],\n",
       "       [-0.00598818,  0.6041402 ],\n",
       "       [ 0.12239957,  0.16961358],\n",
       "       [ 1.0672094 ,  1.6073895 ],\n",
       "       [ 1.446433  , -1.6122272 ],\n",
       "       [ 0.048282  ,  1.3096932 ],\n",
       "       [ 0.4914089 , -0.36764657],\n",
       "       [ 0.7123165 , -0.2797388 ],\n",
       "       [ 0.8833003 , -0.16033536],\n",
       "       [ 1.1883371 , -0.68947136],\n",
       "       [ 0.77454305, -0.6897981 ],\n",
       "       [ 0.79105335, -0.4214943 ],\n",
       "       [ 0.35206416,  0.2975681 ],\n",
       "       [ 0.6224263 , -0.42433524],\n",
       "       [ 1.0191156 , -0.6910875 ],\n",
       "       [ 0.64234066,  1.0393975 ],\n",
       "       [-0.06333971, -0.1835709 ],\n",
       "       [-0.8708913 , -0.6775355 ],\n",
       "       [-0.14639118,  0.37904397],\n",
       "       [-0.6357893 , -0.66127086],\n",
       "       [-0.7305054 ,  0.16966149],\n",
       "       [ 2.363367  , -1.5271021 ],\n",
       "       [ 2.28416   , -1.4672822 ],\n",
       "       [ 0.50939137,  0.67660105],\n",
       "       [-1.3424424 , -0.11295912],\n",
       "       [ 0.46563336,  1.7439196 ],\n",
       "       [ 0.53899825,  0.54771674],\n",
       "       [ 1.15126   , -0.06098521],\n",
       "       [-0.08734493,  0.00294188],\n",
       "       [-1.0197232 , -1.1962593 ],\n",
       "       [ 0.41034412,  0.08418786],\n",
       "       [ 0.38708627, -0.6361658 ],\n",
       "       [ 0.13303366,  0.46381465],\n",
       "       [ 0.11703914, -0.3369294 ],\n",
       "       [-1.4944398 ,  2.1833491 ],\n",
       "       [ 1.9567311 ,  1.5053916 ],\n",
       "       [-1.6457031 ,  0.6371314 ],\n",
       "       [ 0.17676067,  0.21948516],\n",
       "       [-0.8090922 ,  1.6057026 ],\n",
       "       [-1.4686028 , -0.54494816],\n",
       "       [ 1.0585909 , -0.8046867 ],\n",
       "       [ 0.11923561,  0.8829726 ],\n",
       "       [-1.1583523 ,  0.83810925],\n",
       "       [ 0.73803884,  0.6260928 ],\n",
       "       [ 0.26210862, -0.61609215],\n",
       "       [ 1.5475726 , -0.00862838]], dtype=float32)"
      ]
     },
     "execution_count": 15,
     "metadata": {},
     "output_type": "execute_result"
    }
   ],
   "source": [
    "code_"
   ]
  },
  {
   "cell_type": "code",
   "execution_count": null,
   "metadata": {},
   "outputs": [],
   "source": []
  },
  {
   "cell_type": "code",
   "execution_count": null,
   "metadata": {},
   "outputs": [],
   "source": []
  }
 ],
 "metadata": {
  "kernelspec": {
   "display_name": "Python 3",
   "language": "python",
   "name": "python3"
  },
  "language_info": {
   "codemirror_mode": {
    "name": "ipython",
    "version": 3
   },
   "file_extension": ".py",
   "mimetype": "text/x-python",
   "name": "python",
   "nbconvert_exporter": "python",
   "pygments_lexer": "ipython3",
   "version": "3.7.2"
  }
 },
 "nbformat": 4,
 "nbformat_minor": 2
}
