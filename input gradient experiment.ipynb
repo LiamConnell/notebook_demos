{
 "cells": [
  {
   "cell_type": "code",
   "execution_count": 1,
   "metadata": {},
   "outputs": [],
   "source": [
    "import tensorflow as tf\n",
    "from tensorflow.examples.tutorials.mnist import input_data\n",
    "import numpy as np\n",
    "import matplotlib.pyplot as plt\n",
    "import matplotlib.gridspec as gridspec\n",
    "import os\n",
    "\n",
    "from datetime import datetime"
   ]
  },
  {
   "cell_type": "code",
   "execution_count": 2,
   "metadata": {},
   "outputs": [
    {
     "name": "stdout",
     "output_type": "stream",
     "text": [
      "WARNING:tensorflow:From <ipython-input-2-71e12f4bac70>:1: read_data_sets (from tensorflow.contrib.learn.python.learn.datasets.mnist) is deprecated and will be removed in a future version.\n",
      "Instructions for updating:\n",
      "Please use alternatives such as official/mnist/dataset.py from tensorflow/models.\n",
      "WARNING:tensorflow:From /Users/liam/anaconda3/lib/python3.6/site-packages/tensorflow/contrib/learn/python/learn/datasets/mnist.py:260: maybe_download (from tensorflow.contrib.learn.python.learn.datasets.base) is deprecated and will be removed in a future version.\n",
      "Instructions for updating:\n",
      "Please write your own downloading logic.\n",
      "WARNING:tensorflow:From /Users/liam/anaconda3/lib/python3.6/site-packages/tensorflow/contrib/learn/python/learn/datasets/mnist.py:262: extract_images (from tensorflow.contrib.learn.python.learn.datasets.mnist) is deprecated and will be removed in a future version.\n",
      "Instructions for updating:\n",
      "Please use tf.data to implement this functionality.\n",
      "Extracting MNIST_data/train-images-idx3-ubyte.gz\n",
      "WARNING:tensorflow:From /Users/liam/anaconda3/lib/python3.6/site-packages/tensorflow/contrib/learn/python/learn/datasets/mnist.py:267: extract_labels (from tensorflow.contrib.learn.python.learn.datasets.mnist) is deprecated and will be removed in a future version.\n",
      "Instructions for updating:\n",
      "Please use tf.data to implement this functionality.\n",
      "Extracting MNIST_data/train-labels-idx1-ubyte.gz\n",
      "WARNING:tensorflow:From /Users/liam/anaconda3/lib/python3.6/site-packages/tensorflow/contrib/learn/python/learn/datasets/mnist.py:110: dense_to_one_hot (from tensorflow.contrib.learn.python.learn.datasets.mnist) is deprecated and will be removed in a future version.\n",
      "Instructions for updating:\n",
      "Please use tf.one_hot on tensors.\n",
      "Extracting MNIST_data/t10k-images-idx3-ubyte.gz\n",
      "Extracting MNIST_data/t10k-labels-idx1-ubyte.gz\n",
      "WARNING:tensorflow:From /Users/liam/anaconda3/lib/python3.6/site-packages/tensorflow/contrib/learn/python/learn/datasets/mnist.py:290: DataSet.__init__ (from tensorflow.contrib.learn.python.learn.datasets.mnist) is deprecated and will be removed in a future version.\n",
      "Instructions for updating:\n",
      "Please use alternatives such as official/mnist/dataset.py from tensorflow/models.\n"
     ]
    }
   ],
   "source": [
    "mnist = input_data.read_data_sets('MNIST_data', one_hot=True)"
   ]
  },
  {
   "cell_type": "code",
   "execution_count": 3,
   "metadata": {},
   "outputs": [],
   "source": [
    "def plot(samples):\n",
    "    fig = plt.figure(figsize=(4, 4))\n",
    "    gs = gridspec.GridSpec(4, 4)\n",
    "    gs.update(wspace=0.05, hspace=0.05)\n",
    "\n",
    "    for i, sample in enumerate(samples[:16]):\n",
    "        sample = np.array(sample)\n",
    "        ax = plt.subplot(gs[i])\n",
    "        plt.axis('off')\n",
    "        ax.set_xticklabels([])\n",
    "        ax.set_yticklabels([])\n",
    "        ax.set_aspect('equal')\n",
    "        plt.imshow(sample.reshape(28, 28), cmap='Greys_r')\n",
    "\n",
    "    return fig"
   ]
  },
  {
   "cell_type": "code",
   "execution_count": 4,
   "metadata": {},
   "outputs": [],
   "source": [
    "class batch_norm(object):\n",
    "    \"\"\"Code modification of http://stackoverflow.com/a/33950177\"\"\"\n",
    "    def __init__(self, epsilon=1e-5, momentum = 0.9, name=\"batch_norm\"):\n",
    "        with tf.variable_scope(name):\n",
    "            self.epsilon = epsilon\n",
    "            self.momentum = momentum\n",
    "\n",
    "            self.ema = tf.train.ExponentialMovingAverage(decay=self.momentum)\n",
    "            self.name = name\n",
    "\n",
    "    def __call__(self, x, train=True):\n",
    "        shape = x.get_shape().as_list()\n",
    "\n",
    "        if train:\n",
    "            with tf.variable_scope(self.name) as scope:\n",
    "                self.beta = tf.get_variable(\"beta\", [shape[-1]],\n",
    "                                    initializer=tf.constant_initializer(0.))\n",
    "                self.gamma = tf.get_variable(\"gamma\", [shape[-1]],\n",
    "                                    initializer=tf.random_normal_initializer(1., 0.02))\n",
    "\n",
    "                batch_mean, batch_var = tf.nn.moments(x, [0, 1, 2], name='moments')\n",
    "                ema_apply_op = self.ema.apply([batch_mean, batch_var])\n",
    "                self.ema_mean, self.ema_var = self.ema.average(batch_mean), self.ema.average(batch_var)\n",
    "\n",
    "                with tf.control_dependencies([ema_apply_op]):\n",
    "                    mean, var = tf.identity(batch_mean), tf.identity(batch_var)\n",
    "        else:\n",
    "            mean, var = self.ema_mean, self.ema_var\n",
    "\n",
    "        normed = tf.nn.batch_norm_with_global_normalization(\n",
    "                x, mean, var, self.beta, self.gamma, self.epsilon, scale_after_normalization=True)\n",
    "\n",
    "        return normed\n",
    "\n",
    "# standard convolution layer\n",
    "def conv2d(x, inputFeatures, outputFeatures, name):\n",
    "    with tf.variable_scope(name):\n",
    "        w = tf.get_variable(\"w\",[5,5,inputFeatures, outputFeatures], initializer=tf.truncated_normal_initializer(stddev=0.02))\n",
    "        b = tf.get_variable(\"b\",[outputFeatures], initializer=tf.constant_initializer(0.0))\n",
    "        conv = tf.nn.conv2d(x, w, strides=[1,2,2,1], padding=\"SAME\") + b\n",
    "        return conv\n",
    "\n",
    "def conv_transpose(x, outputShape, name):\n",
    "    with tf.variable_scope(name):\n",
    "        # h, w, out, in\n",
    "        w = tf.get_variable(\"w\",[5,5, outputShape[-1], x.get_shape()[-1]], initializer=tf.truncated_normal_initializer(stddev=0.02))\n",
    "        b = tf.get_variable(\"b\",[outputShape[-1]], initializer=tf.constant_initializer(0.0))\n",
    "        convt = tf.nn.conv2d_transpose(x, w, output_shape=outputShape, strides=[1,2,2,1])\n",
    "        return convt\n",
    "\n",
    "def deconv2d(input_, output_shape,\n",
    "             k_h=5, k_w=5, d_h=2, d_w=2, stddev=0.02,\n",
    "             name=\"deconv2d\"):\n",
    "    with tf.variable_scope(name):\n",
    "        # filter : [height, width, output_channels, in_channels]\n",
    "        w = tf.get_variable('w', [k_h, k_h, output_shape[-1], input_.get_shape()[-1]],\n",
    "                            initializer=tf.random_normal_initializer(stddev=stddev))\n",
    "\n",
    "        deconv = tf.nn.conv2d_transpose(input_, w, output_shape=output_shape, strides=[1, d_h, d_w, 1])\n",
    "\n",
    "        biases = tf.get_variable('biases', [output_shape[-1]], initializer=tf.constant_initializer(0.0))\n",
    "        deconv = tf.reshape(tf.nn.bias_add(deconv, biases), deconv.get_shape())\n",
    "\n",
    "        return deconv\n",
    "\n",
    "# leaky reLu unit\n",
    "def lrelu(x, leak=0.2, name=\"lrelu\"):\n",
    "    with tf.variable_scope(name):\n",
    "        f1 = 0.5 * (1 + leak)\n",
    "        f2 = 0.5 * (1 - leak)\n",
    "        return f1 * x + f2 * abs(x)\n",
    "\n",
    "# fully-conected layer\n",
    "def dense(x, inputFeatures, outputFeatures, scope=None, with_w=False):\n",
    "    with tf.variable_scope(scope or \"Linear\"):\n",
    "        matrix = tf.get_variable(\"Matrix\", [inputFeatures, outputFeatures], tf.float32, tf.random_normal_initializer(stddev=0.02))\n",
    "        bias = tf.get_variable(\"bias\", [outputFeatures], initializer=tf.constant_initializer(0.0))\n",
    "        if with_w:\n",
    "            return tf.matmul(x, matrix) + bias, matrix, bias\n",
    "        else:\n",
    "            return tf.matmul(x, matrix) + bias"
   ]
  },
  {
   "cell_type": "code",
   "execution_count": 5,
   "metadata": {},
   "outputs": [],
   "source": [
    "def xavier_init(size):\n",
    "    in_dim = size[0]\n",
    "    xavier_stddev = 1. / tf.sqrt(in_dim / 2.)\n",
    "    return tf.random_normal(shape=size, stddev=xavier_stddev)"
   ]
  },
  {
   "cell_type": "code",
   "execution_count": 6,
   "metadata": {},
   "outputs": [],
   "source": [
    "tf.reset_default_graph()"
   ]
  },
  {
   "cell_type": "code",
   "execution_count": null,
   "metadata": {},
   "outputs": [],
   "source": [
    "X = tf.placeholder(tf.float32, shape=[None, 784])"
   ]
  },
  {
   "cell_type": "code",
   "execution_count": 44,
   "metadata": {},
   "outputs": [],
   "source": [
    "class Model:\n",
    "    def __init__(self):\n",
    "        self.X = X =  tf.placeholder(tf.float32, shape=[None, 784])\n",
    "        self.Y = Y =  tf.placeholder(tf.int32, shape=[None,10])\n",
    "         \n",
    "        h1 = tf.layers.dense(X, 100, tf.nn.relu)\n",
    "        pred = tf.layers.dense(h1, 10, tf.identity)\n",
    "        \n",
    "        self.loss = loss =  tf.nn.softmax_cross_entropy_with_logits_v2(labels=Y, logits=pred)\n",
    "        \n",
    "        self.optimizer = tf.train.GradientDescentOptimizer(.01).minimize(loss)"
   ]
  },
  {
   "cell_type": "code",
   "execution_count": 49,
   "metadata": {},
   "outputs": [],
   "source": [
    "sess = tf.Session()\n",
    "sess.run(tf.global_variables_initializer())"
   ]
  },
  {
   "cell_type": "code",
   "execution_count": 48,
   "metadata": {},
   "outputs": [],
   "source": [
    "m = Model()"
   ]
  },
  {
   "cell_type": "raw",
   "metadata": {},
   "source": [
    "mb_size = 100\n",
    "for it in range(9000):\n",
    "    X_mb, Y_mb = mnist.train.next_batch(mb_size)\n",
    "\n",
    "    _, loss = sess.run([m.optimizer, m.loss], \n",
    "                                     feed_dict={m.X: X_mb, m.Y: Y_mb})\n",
    "    if it % 1000 == 0:\n",
    "        print('Iter: {}'.format(it))\n",
    "        print('loss: {:.4}'. format(np.mean(loss)))\n",
    "        print(str(datetime.now()))\n",
    "        print()"
   ]
  },
  {
   "cell_type": "code",
   "execution_count": null,
   "metadata": {},
   "outputs": [],
   "source": []
  },
  {
   "cell_type": "code",
   "execution_count": 88,
   "metadata": {},
   "outputs": [],
   "source": [
    "X_u, Y_u = mnist.train.next_batch(mb_size)\n",
    "Y_u = np.concatenate([Y_u[:,2:], Y_u[:,0:2]], axis=1)\n",
    "g = sess.run(tf.gradients(m.loss, m.X),\n",
    "        feed_dict={m.X: X_u, m.Y: Y_u})"
   ]
  },
  {
   "cell_type": "code",
   "execution_count": 89,
   "metadata": {},
   "outputs": [
    {
     "data": {
      "text/plain": [
       "array([[ 0.01608742, -0.11249542,  0.32827967, ..., -0.16439399,\n",
       "        -0.11776778,  0.27262926],\n",
       "       [-0.16961721, -0.27451926, -0.30022508, ..., -0.25251544,\n",
       "         0.07086565,  0.17685942],\n",
       "       [-0.27099299,  0.35548234,  0.16940624, ...,  0.04202372,\n",
       "        -0.05503833,  0.18195716],\n",
       "       ..., \n",
       "       [ 0.07574237,  0.35034406,  0.08843613, ..., -0.09781045,\n",
       "         0.11654986,  0.20842656],\n",
       "       [ 0.04612068,  0.18221088,  0.45589426, ..., -0.08960304,\n",
       "        -0.10044166, -0.2754592 ],\n",
       "       [-0.0964765 ,  0.35063705, -0.0051636 , ...,  0.12369227,\n",
       "         0.22868372, -0.23958541]], dtype=float32)"
      ]
     },
     "execution_count": 89,
     "metadata": {},
     "output_type": "execute_result"
    }
   ],
   "source": [
    "g[0]"
   ]
  },
  {
   "cell_type": "code",
   "execution_count": 93,
   "metadata": {},
   "outputs": [
    {
     "data": {
      "image/png": "[encoded data removed]",
      "text/plain": [
       "<matplotlib.figure.Figure at 0x1323054a8>"
      ]
     },
     "execution_count": 93,
     "metadata": {},
     "output_type": "execute_result"
    },
    {
     "data": {
      "image/png": "[encoded data removed]",
      "text/plain": [
       "<matplotlib.figure.Figure at 0x1323054a8>"
      ]
     },
     "metadata": {},
     "output_type": "display_data"
    }
   ],
   "source": [
    "#plot(X_u+g[0]*.1)\n",
    "plot(X_u)\n",
    "#plot(g[0])"
   ]
  },
  {
   "cell_type": "code",
   "execution_count": null,
   "metadata": {},
   "outputs": [],
   "source": []
  }
 ],
 "metadata": {
  "kernelspec": {
   "display_name": "Python 3",
   "language": "python",
   "name": "python3"
  },
  "language_info": {
   "codemirror_mode": {
    "name": "ipython",
    "version": 3
   },
   "file_extension": ".py",
   "mimetype": "text/x-python",
   "name": "python",
   "nbconvert_exporter": "python",
   "pygments_lexer": "ipython3",
   "version": "3.6.1"
  }
 },
 "nbformat": 4,
 "nbformat_minor": 2
}
