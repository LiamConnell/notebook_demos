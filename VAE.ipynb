{
 "cells": [
  {
   "cell_type": "markdown",
   "metadata": {},
   "source": [
    "# Variational Autoencoders\n",
    "This code is based on this blog post: http://kvfrans.com/variational-autoencoders-explained/, which replicates work on VAE from https://arxiv.org/abs/1312.6114 (Kingma, 2013)."
   ]
  },
  {
   "cell_type": "code",
   "execution_count": 1,
   "metadata": {},
   "outputs": [],
   "source": [
    "import tensorflow as tf\n",
    "from tensorflow.examples.tutorials.mnist import input_data\n",
    "import numpy as np\n",
    "import matplotlib.pyplot as plt\n",
    "import matplotlib.gridspec as gridspec\n",
    "import os\n",
    "\n",
    "from datetime import datetime\n",
    "\n",
    "from utils import *"
   ]
  },
  {
   "cell_type": "code",
   "execution_count": 2,
   "metadata": {
    "collapsed": true
   },
   "outputs": [
    {
     "name": "stdout",
     "output_type": "stream",
     "text": [
      "WARNING:tensorflow:From <ipython-input-2-71e12f4bac70>:1: read_data_sets (from tensorflow.contrib.learn.python.learn.datasets.mnist) is deprecated and will be removed in a future version.\n",
      "Instructions for updating:\n",
      "Please use alternatives such as official/mnist/dataset.py from tensorflow/models.\n",
      "WARNING:tensorflow:From /Users/liam/anaconda3/lib/python3.6/site-packages/tensorflow/contrib/learn/python/learn/datasets/mnist.py:260: maybe_download (from tensorflow.contrib.learn.python.learn.datasets.base) is deprecated and will be removed in a future version.\n",
      "Instructions for updating:\n",
      "Please write your own downloading logic.\n",
      "WARNING:tensorflow:From /Users/liam/anaconda3/lib/python3.6/site-packages/tensorflow/contrib/learn/python/learn/datasets/mnist.py:262: extract_images (from tensorflow.contrib.learn.python.learn.datasets.mnist) is deprecated and will be removed in a future version.\n",
      "Instructions for updating:\n",
      "Please use tf.data to implement this functionality.\n",
      "Extracting MNIST_data/train-images-idx3-ubyte.gz\n",
      "WARNING:tensorflow:From /Users/liam/anaconda3/lib/python3.6/site-packages/tensorflow/contrib/learn/python/learn/datasets/mnist.py:267: extract_labels (from tensorflow.contrib.learn.python.learn.datasets.mnist) is deprecated and will be removed in a future version.\n",
      "Instructions for updating:\n",
      "Please use tf.data to implement this functionality.\n",
      "Extracting MNIST_data/train-labels-idx1-ubyte.gz\n",
      "WARNING:tensorflow:From /Users/liam/anaconda3/lib/python3.6/site-packages/tensorflow/contrib/learn/python/learn/datasets/mnist.py:110: dense_to_one_hot (from tensorflow.contrib.learn.python.learn.datasets.mnist) is deprecated and will be removed in a future version.\n",
      "Instructions for updating:\n",
      "Please use tf.one_hot on tensors.\n",
      "Extracting MNIST_data/t10k-images-idx3-ubyte.gz\n",
      "Extracting MNIST_data/t10k-labels-idx1-ubyte.gz\n",
      "WARNING:tensorflow:From /Users/liam/anaconda3/lib/python3.6/site-packages/tensorflow/contrib/learn/python/learn/datasets/mnist.py:290: DataSet.__init__ (from tensorflow.contrib.learn.python.learn.datasets.mnist) is deprecated and will be removed in a future version.\n",
      "Instructions for updating:\n",
      "Please use alternatives such as official/mnist/dataset.py from tensorflow/models.\n"
     ]
    }
   ],
   "source": [
    "mnist = input_data.read_data_sets('MNIST_data', one_hot=True)"
   ]
  },
  {
   "cell_type": "code",
   "execution_count": 3,
   "metadata": {},
   "outputs": [],
   "source": [
    "tf.reset_default_graph()\n"
   ]
  },
  {
   "cell_type": "code",
   "execution_count": 4,
   "metadata": {},
   "outputs": [],
   "source": [
    "n_z = 20\n",
    "batchsize = 32\n",
    "\n",
    "# ENCODER\n",
    "X = tf.placeholder(tf.float32, shape=[None, 784])\n",
    "X_reshape = tf.reshape(X, [-1, 28,28,1])\n",
    "def encoder(x):\n",
    "    with tf.variable_scope(\"encoder\"):\n",
    "        h1 = lrelu(conv2d(x, 1, 16, \"d_h1\")) # 28x28x1 -> 14x14x16\n",
    "        h2 = lrelu(conv2d(h1, 16, 32, \"d_h2\")) # 14x14x16 -> 7x7x32\n",
    "        h2_flat = tf.reshape(h2,[-1, 7*7*32])\n",
    "        w_mean = dense(h2_flat, 7*7*32, n_z, \"w_mean\")\n",
    "        w_stddev = dense(h2_flat, 7*7*32, n_z, \"w_stddev\")\n",
    "    return w_mean, w_stddev\n",
    "\n",
    "\n",
    "# DECODER\n",
    "def decoder(z):\n",
    "    with tf.variable_scope(\"decoder\", reuse=tf.AUTO_REUSE):\n",
    "        z_develop = dense(z, n_z, 7*7*32, scope='z_matrix')\n",
    "        z_matrix = tf.nn.relu(tf.reshape(z_develop, [-1, 7, 7, 32]))\n",
    "        h1 = tf.nn.relu(conv_transpose(z_matrix, [batchsize, 14, 14, 16], \"g_h1\"))\n",
    "        h2 = conv_transpose(h1, [batchsize, 28, 28, 1], \"g_h2\")\n",
    "        h2 = tf.nn.sigmoid(h2)\n",
    "    return h2\n",
    "\n",
    "\n",
    "\n",
    "z_mean, z_stddev = encoder(X_reshape)\n",
    "\n",
    "samples = tf.random_normal([batchsize, n_z], 0, 1, dtype=tf.float32)\n",
    "z_code = z_mean + (z_stddev * samples)\n",
    "\n",
    "generated_images = decoder(z_code)\n",
    "generated_flat = tf.reshape(generated_images, [-1, 784])\n",
    "\n",
    "\n",
    "# LOSS\n",
    "generation_loss = -tf.reduce_sum(X * tf.log(1e-8 + generated_flat) + \n",
    "                                 (1-X) * tf.log(1e-8 + 1 - generated_flat)\n",
    "                                 ,1)\n",
    "latent_loss = 0.5 * tf.reduce_sum(tf.square(z_mean) + tf.square(z_stddev) - tf.log(1e-8 + tf.abs(z_stddev)) - 1,1)\n",
    "loss = tf.reduce_mean(generation_loss + latent_loss)\n",
    "\n",
    "optimizer = tf.train.AdamOptimizer(0.001).minimize(loss)"
   ]
  },
  {
   "cell_type": "code",
   "execution_count": 5,
   "metadata": {
    "scrolled": true
   },
   "outputs": [],
   "source": [
    "samples_fake = tf.random_normal([32, n_z], 0, 1, dtype=tf.float32)\n",
    "#samples_fake = tf.random_normal([n_z], 0, 1, dtype=tf.float32)\n",
    "#samples_fake = tf.ones([32,n_z]) * samples_fake\n",
    "fake_images = decoder(samples_fake)"
   ]
  },
  {
   "cell_type": "code",
   "execution_count": 6,
   "metadata": {},
   "outputs": [],
   "source": [
    "sess = tf.Session()\n",
    "sess.run(tf.global_variables_initializer())"
   ]
  },
  {
   "cell_type": "code",
   "execution_count": 7,
   "metadata": {
    "scrolled": false
   },
   "outputs": [
    {
     "name": "stdout",
     "output_type": "stream",
     "text": [
      "Iter: 0\n",
      "gen_loss: 543.4\n",
      "lat_loss: 50.15\n",
      "2018-07-08 13:18:18.268621\n",
      "\n",
      "Iter: 1000\n",
      "gen_loss: 119.2\n",
      "lat_loss: 13.36\n",
      "2018-07-08 13:18:40.670949\n",
      "\n",
      "Iter: 2000\n",
      "gen_loss: 106.3\n",
      "lat_loss: 16.15\n",
      "2018-07-08 13:19:03.484160\n",
      "\n",
      "Iter: 3000\n",
      "gen_loss: 110.0\n",
      "lat_loss: 16.03\n",
      "2018-07-08 13:19:24.103046\n",
      "\n",
      "Iter: 4000\n",
      "gen_loss: 85.73\n",
      "lat_loss: 13.96\n",
      "2018-07-08 13:19:51.622279\n",
      "\n",
      "Iter: 5000\n",
      "gen_loss: 102.3\n",
      "lat_loss: 15.67\n",
      "2018-07-08 13:20:15.267227\n",
      "\n",
      "Iter: 6000\n",
      "gen_loss: 101.7\n",
      "lat_loss: 26.35\n",
      "2018-07-08 13:20:36.996647\n",
      "\n",
      "Iter: 7000\n",
      "gen_loss: 87.42\n",
      "lat_loss: 15.08\n",
      "2018-07-08 13:20:57.887669\n",
      "\n",
      "Iter: 8000\n",
      "gen_loss: 85.53\n",
      "lat_loss: 18.63\n",
      "2018-07-08 13:21:18.414053\n",
      "\n"
     ]
    }
   ],
   "source": [
    "mb_size = batchsize\n",
    "for it in range(9000):\n",
    "    X_mb, _ = mnist.train.next_batch(mb_size)\n",
    "\n",
    "    _, gen_loss, lat_loss = sess.run((optimizer, generation_loss, latent_loss), \n",
    "                                     feed_dict={X: X_mb})\n",
    "    if it % 1000 == 0:\n",
    "        print('Iter: {}'.format(it))\n",
    "        print('gen_loss: {:.4}'. format(np.mean(gen_loss)))\n",
    "        print('lat_loss: {:.4}'.format(np.mean(lat_loss)))\n",
    "        print(str(datetime.now()))\n",
    "        print()"
   ]
  },
  {
   "cell_type": "code",
   "execution_count": 104,
   "metadata": {
    "scrolled": true
   },
   "outputs": [
    {
     "data": {
      "image/png": "[encoded data removed]",
      "text/plain": [
       "<matplotlib.figure.Figure at 0x11fb17d68>"
      ]
     },
     "execution_count": 104,
     "metadata": {},
     "output_type": "execute_result"
    },
    {
     "data": {
      "image/png": "[encoded data removed]",
      "text/plain": [
       "<matplotlib.figure.Figure at 0x11fb17d30>"
      ]
     },
     "metadata": {},
     "output_type": "display_data"
    },
    {
     "data": {
      "image/png": "[encoded data removed]",
      "text/plain": [
       "<matplotlib.figure.Figure at 0x11fb17d68>"
      ]
     },
     "metadata": {},
     "output_type": "display_data"
    }
   ],
   "source": [
    "g, r, z, z_mean, z_stddev = sess.run([generated_images, X_reshape, z_code, z_mean, z_stddev], feed_dict={X: X_mb})\n",
    "plot(g)\n",
    "plot(r)"
   ]
  },
  {
   "cell_type": "code",
   "execution_count": 94,
   "metadata": {},
   "outputs": [
    {
     "data": {
      "text/plain": [
       "nan"
      ]
     },
     "execution_count": 94,
     "metadata": {},
     "output_type": "execute_result"
    }
   ],
   "source": [
    "z_mean.mean()"
   ]
  },
  {
   "cell_type": "code",
   "execution_count": 87,
   "metadata": {},
   "outputs": [
    {
     "data": {
      "text/plain": [
       "array([[-0.2117701 ,  0.30972821,  0.34033766, -0.30084312, -0.25705734,\n",
       "        -0.24971001,  0.48943284,  1.22855389,  0.38461703,  0.42849451,\n",
       "         0.15330452, -0.18080147, -0.32440299, -0.30053788, -0.49409112,\n",
       "         0.16084529, -0.34618187,  0.15630183,  1.44804335, -0.35996947],\n",
       "       [-0.19221835,  0.15651834,  0.41268995, -0.17412817, -0.29260159,\n",
       "        -0.21561474,  0.32216558,  1.08402848,  0.33398214,  0.52086204,\n",
       "         0.24428523, -0.10874249, -0.40157267, -0.40686947, -0.30047727,\n",
       "         0.17609012, -0.33652523,  0.21055719,  1.07505095, -0.56213129],\n",
       "       [-0.27085799,  0.22269826,  0.34077021, -0.29923239, -0.33312365,\n",
       "        -0.25785303,  0.66149795,  1.10232687,  0.39881274,  0.42003506,\n",
       "         0.15593705, -0.2013385 , -0.44224113, -0.53592861, -0.57552356,\n",
       "         0.27180797, -0.30628109,  0.15794963,  1.22830832, -0.64322072],\n",
       "       [-0.22346316,  0.32066265,  0.37030435, -0.33162004, -0.41919297,\n",
       "        -0.26928666,  0.32107243,  1.33222365,  0.41598964,  0.42817089,\n",
       "         0.2112385 , -0.16463736, -0.45526394, -0.53009129, -0.2388954 ,\n",
       "         0.2351072 , -0.2982403 ,  0.24352807,  1.10269964, -0.61579645],\n",
       "       [-0.23662557,  0.26104587,  0.25139523, -0.4071514 , -0.3927429 ,\n",
       "        -0.26857334,  0.38363042,  1.049196  ,  0.33495423,  0.46796203,\n",
       "         0.19465953, -0.25708064, -0.52147406, -0.36945024, -0.68262523,\n",
       "         0.22844319, -0.31023151, -0.15220854,  1.23020399, -0.58736712],\n",
       "       [-0.23025635,  0.17268452,  0.31547844, -0.20233311, -0.24586415,\n",
       "        -0.22318347,  0.28657457,  1.14240813,  0.29612464,  0.45166707,\n",
       "         0.21519697, -0.1735355 , -0.26631734, -0.42290825, -0.40279496,\n",
       "         0.13890842, -0.31184   , -0.14137268,  0.92687154, -0.37942192],\n",
       "       [-0.22386341,  0.23610489,  0.24891298, -0.2853134 , -0.32410672,\n",
       "        -0.22306873,  0.40620938,  1.06462312,  0.36041212,  0.38597298,\n",
       "         0.20149258, -0.19770283, -0.34853867, -0.40597725, -0.40899023,\n",
       "         0.22516502, -0.25518048, -0.0636618 ,  0.94800305, -0.5703761 ],\n",
       "       [-0.22280265,  0.16246091,  0.24486558, -0.27913439, -0.20215064,\n",
       "        -0.21297149,  0.39488423,  1.10875106,  0.35313779,  0.24691486,\n",
       "         0.24205378, -0.21524668, -0.4250223 , -0.42970821, -0.37285218,\n",
       "         0.16342133, -0.29685676,  0.15880293,  0.7810353 , -0.48981842],\n",
       "       [-0.34311038,  0.32715634,  0.20908691, -0.44903553, -0.49619833,\n",
       "        -0.25325558,  0.67998672,  1.23693955,  0.4221186 ,  0.47116336,\n",
       "         0.17763993, -0.20897906, -0.75285763, -0.41275528, -0.40332189,\n",
       "         0.25955141, -0.25494981,  0.37345579,  1.14376116, -0.7320469 ],\n",
       "       [-0.24924092,  0.24759385,  0.21283545, -0.19831707, -0.30722272,\n",
       "        -0.20287533,  0.74999565,  1.31130493,  0.29298198,  0.57615173,\n",
       "         0.18767104, -0.19984797, -0.84105521, -0.40392634, -0.46457443,\n",
       "         0.12616065, -0.23083177,  0.13524783,  1.38466716, -0.56724674],\n",
       "       [-0.26451689,  0.17556256,  0.38013998, -0.30018574, -0.12361684,\n",
       "        -0.20839646,  0.2864351 ,  1.22333217,  0.30672053,  0.61363888,\n",
       "         0.23094317, -0.19141635, -0.74743921, -0.59856659, -0.1764078 ,\n",
       "         0.20644318, -0.34407985,  0.66635048,  0.74654579, -0.4318985 ],\n",
       "       [-0.35110456,  0.30985022,  0.1942849 , -0.3528043 , -0.35458618,\n",
       "        -0.22064459,  0.83396924,  1.24702871,  0.41548762,  0.65550566,\n",
       "         0.16931072, -0.22251728, -0.85775298, -0.48340371, -0.6841011 ,\n",
       "         0.22371264, -0.25353503,  0.3736591 ,  1.6620214 , -0.6843347 ],\n",
       "       [-0.17838562,  0.21998627,  0.19494466, -0.39118341, -0.2230109 ,\n",
       "        -0.22849239,  0.331422  ,  1.19744897,  0.36511853,  0.58384252,\n",
       "         0.22270727, -0.20935312, -0.64513797, -0.41073787, -0.24328844,\n",
       "         0.23508357, -0.3278777 ,  0.23819897,  1.00733185, -0.69437152],\n",
       "       [-0.36779714,  0.30371451,  0.44084078, -0.346187  , -0.23885415,\n",
       "        -0.24625285,  0.85605145,  1.0602473 ,  0.45742121,  0.550165  ,\n",
       "         0.15654832, -0.22408476, -0.7346527 , -0.2846171 , -0.27133578,\n",
       "         0.21795517, -0.36839384,  0.76232529,  1.35914469, -0.27948818],\n",
       "       [-0.3032102 ,  0.30917296,  0.40874025, -0.33733302, -0.32213911,\n",
       "        -0.26527894,  0.30823901,  1.24118626,  0.37752938,  0.63762629,\n",
       "         0.20281765, -0.19780184, -0.44675753, -0.3259351 , -0.27930602,\n",
       "         0.2068813 , -0.28892809,  0.31923634,  0.80305338, -0.54552573],\n",
       "       [-0.21208046,  0.13984714,  0.20925866, -0.18363345, -0.27296126,\n",
       "        -0.21748291,  0.30030495,  1.03721893,  0.29154676,  0.46131182,\n",
       "         0.22134718, -0.16190982, -0.35656583, -0.29669735, -0.33660194,\n",
       "         0.22077325, -0.25167975, -0.07270531,  0.79265022, -0.56648427],\n",
       "       [-0.20434177,  0.22040837,  0.40770501, -0.35850722, -0.30359435,\n",
       "        -0.24308772,  0.70067316,  1.38823307,  0.33874553,  0.39129019,\n",
       "         0.19369987, -0.19591461, -0.51172268, -0.3893472 , -0.30588451,\n",
       "         0.11531594, -0.20155582,  0.07985914,  1.00116873, -0.73280704],\n",
       "       [-0.21690758,  0.1882109 ,  0.1522513 , -0.26124877, -0.28446725,\n",
       "        -0.21135676,  0.56871486,  1.16438687,  0.25603113,  0.50695938,\n",
       "         0.16113082, -0.20969142, -0.36442751, -0.36255136, -0.44674227,\n",
       "         0.18164182, -0.25507182,  0.02412153,  1.22541296, -0.56508756],\n",
       "       [-0.27514613,  0.22588545,  0.24879317, -0.38735062, -0.36321196,\n",
       "        -0.24571328,  0.58736116,  1.03848124,  0.40838441,  0.24124268,\n",
       "         0.22770751, -0.19285128, -0.55512255, -0.56356257, -0.37256384,\n",
       "         0.20651327, -0.32868552,  0.3389284 ,  1.04451644, -0.62659323],\n",
       "       [-0.25161105,  0.14879179,  0.30353087, -0.30201864, -0.28787997,\n",
       "        -0.28630081,  0.63653594,  1.09208047,  0.25889716,  0.28850526,\n",
       "         0.18068001, -0.16259   , -0.40655452, -0.40357333, -0.44128212,\n",
       "         0.19630823, -0.30600446,  0.18186533,  1.14075494, -0.56167608],\n",
       "       [-0.3786723 ,  0.34906432,  0.22238514, -0.38552403, -0.23675933,\n",
       "        -0.25795609,  0.96803457,  1.13138759,  0.50407809,  0.69598651,\n",
       "         0.18190628, -0.28608847, -0.99466878, -0.50779092, -0.3961328 ,\n",
       "         0.31993937, -0.36270177,  0.55990505,  1.21664786, -0.51492435],\n",
       "       [-0.28044027,  0.19130561,  0.24874543, -0.27543348, -0.30375049,\n",
       "        -0.24204952,  0.84773266,  1.06149733,  0.28384885,  0.35056838,\n",
       "         0.20980856, -0.1694099 , -0.58299309, -0.47602168, -0.43626425,\n",
       "         0.28665164, -0.31679624,  0.33717498,  1.25201654, -0.67732269],\n",
       "       [-0.22896363,  0.34995326,  0.32397389, -0.23722658, -0.34442917,\n",
       "        -0.28436041,  0.70149189,  1.29178429,  0.30352852,  0.59091038,\n",
       "         0.14382654, -0.2199273 , -0.82192475, -0.46023139, -0.29989365,\n",
       "         0.14779611, -0.30635089,  0.27548033,  1.63631761, -0.65651554],\n",
       "       [-0.29370248,  0.18787292,  0.17504728, -0.31265444, -0.32128078,\n",
       "        -0.25027084,  0.51976991,  1.31675744,  0.27559435,  0.5171513 ,\n",
       "         0.23376474, -0.16490333, -0.58237571, -0.50113738, -0.37711918,\n",
       "         0.19248125, -0.30173391,  0.47637594,  0.83691657, -0.76436687],\n",
       "       [-0.27023607,  0.21156453,  0.31986853, -0.32655025, -0.25720507,\n",
       "        -0.24926473,  0.61923301,  1.32313633,  0.32052362,  0.4603703 ,\n",
       "         0.150535  , -0.17122318, -0.63497949, -0.46953169, -0.46352646,\n",
       "         0.11423346, -0.29046553,  0.12066665,  1.34358299, -0.42515242],\n",
       "       [-0.17354412,  0.23824012,  0.37404805, -0.46288273, -0.19558668,\n",
       "        -0.26689366,  0.34928867,  1.29864514,  0.35247526,  0.63525802,\n",
       "         0.18966833, -0.25438926, -0.59812832, -0.39142928,  0.01909736,\n",
       "         0.21735936, -0.29603928,  0.47374046,  1.04240847, -0.69883186],\n",
       "       [-0.2462512 ,  0.33696193,  0.33223394, -0.3359623 , -0.36690408,\n",
       "        -0.24448496,  0.77108848,  1.31048071,  0.4045313 ,  0.59028083,\n",
       "         0.16124946, -0.22660013, -0.85257167, -0.44280252, -0.28784877,\n",
       "         0.20862684, -0.32390708,  0.39858109,  1.51209033, -0.51840156],\n",
       "       [-0.20353083,  0.18644163,  0.20064799, -0.34907106, -0.25321716,\n",
       "        -0.2315421 ,  0.39660326,  1.0631597 ,  0.32177335,  0.41471064,\n",
       "         0.18851683, -0.22968858, -0.28409463, -0.24178389, -0.14699106,\n",
       "         0.20267585, -0.26948732, -0.04286525,  0.93382227, -0.53744358],\n",
       "       [-0.27524328,  0.26988351,  0.41339165, -0.32255101, -0.21679448,\n",
       "        -0.22317931,  0.453549  ,  0.95013088,  0.42816296,  0.27886862,\n",
       "         0.18783143, -0.18992098, -0.3183884 , -0.45600781, -0.43765959,\n",
       "         0.19593884, -0.32833511,  0.28984621,  0.80571043, -0.22898783],\n",
       "       [-0.26274985,  0.25345606,  0.33976108, -0.3969008 , -0.41400781,\n",
       "        -0.24758492,  0.70796984,  1.40591776,  0.3721329 ,  0.57794476,\n",
       "         0.12281563, -0.20900637, -0.64360303, -0.38052019, -0.41337416,\n",
       "         0.17757586, -0.19795129,  0.35374355,  1.62908244, -0.53678256],\n",
       "       [-0.21203916,  0.242413  ,  0.15848477, -0.42772734, -0.40166011,\n",
       "        -0.23073702,  0.20190711,  0.9489494 ,  0.31449047,  0.48699373,\n",
       "         0.22932971, -0.28065273, -0.48728883, -0.24164268, -0.56319797,\n",
       "         0.19077179, -0.2994273 , -0.23643395,  1.09826183, -0.49486849],\n",
       "       [-0.23241518,  0.25574288,  0.26618573, -0.39615548, -0.27433822,\n",
       "        -0.24162157,  0.37880325,  1.06729281,  0.36063775,  0.35315239,\n",
       "         0.18999937, -0.21377982, -0.4499599 , -0.21521457, -0.38715771,\n",
       "         0.24212471, -0.30560955, -0.17816758,  0.90998542, -0.47586566]], dtype=float32)"
      ]
     },
     "execution_count": 87,
     "metadata": {},
     "output_type": "execute_result"
    }
   ],
   "source": [
    "z_stddev"
   ]
  },
  {
   "cell_type": "code",
   "execution_count": null,
   "metadata": {},
   "outputs": [],
   "source": []
  },
  {
   "cell_type": "code",
   "execution_count": null,
   "metadata": {},
   "outputs": [],
   "source": []
  },
  {
   "cell_type": "code",
   "execution_count": null,
   "metadata": {},
   "outputs": [],
   "source": []
  },
  {
   "cell_type": "code",
   "execution_count": 106,
   "metadata": {},
   "outputs": [
    {
     "data": {
      "image/png": "[encoded data removed]",
      "text/plain": [
       "<matplotlib.figure.Figure at 0x1567e0208>"
      ]
     },
     "execution_count": 106,
     "metadata": {},
     "output_type": "execute_result"
    },
    {
     "data": {
      "image/png": "[encoded data removed]",
      "text/plain": [
       "<matplotlib.figure.Figure at 0x1567e0208>"
      ]
     },
     "metadata": {},
     "output_type": "display_data"
    }
   ],
   "source": [
    "plot(sess.run(fake_images,feed_dict={X: X_mb}))"
   ]
  },
  {
   "cell_type": "code",
   "execution_count": null,
   "metadata": {},
   "outputs": [],
   "source": []
  }
 ],
 "metadata": {
  "kernelspec": {
   "display_name": "Python 3",
   "language": "python",
   "name": "python3"
  },
  "language_info": {
   "codemirror_mode": {
    "name": "ipython",
    "version": 3
   },
   "file_extension": ".py",
   "mimetype": "text/x-python",
   "name": "python",
   "nbconvert_exporter": "python",
   "pygments_lexer": "ipython3",
   "version": "3.6.1"
  }
 },
 "nbformat": 4,
 "nbformat_minor": 2
}
